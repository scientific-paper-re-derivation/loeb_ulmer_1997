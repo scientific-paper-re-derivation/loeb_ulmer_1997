{
 "cells": [
  {
   "cell_type": "markdown",
   "metadata": {
    "deletable": true,
    "editable": true
   },
   "source": [
    "[ADS Entry](http://adsabs.harvard.edu/abs/1997ApJ...489..573L)"
   ]
  },
  {
   "cell_type": "code",
   "execution_count": 294,
   "metadata": {
    "collapsed": true,
    "deletable": true,
    "editable": true
   },
   "outputs": [],
   "source": [
    "import sympy\n",
    "sympy.init_printing()"
   ]
  },
  {
   "cell_type": "markdown",
   "metadata": {
    "deletable": true,
    "editable": true
   },
   "source": [
    "Equation 1"
   ]
  },
  {
   "cell_type": "code",
   "execution_count": 295,
   "metadata": {
    "collapsed": false,
    "deletable": true,
    "editable": true
   },
   "outputs": [
    {
     "data": {
      "image/png": "[encoded data removed]",
      "text/latex": [
       "$$P_{\\rm rad} = K \\rho_{\\rm gas}^{\\frac{4}{3}}$$"
      ],
      "text/plain": [
       "                              4/3\n",
       "P_{\\rm rad} = K⋅\\rho_{\\rm gas}   "
      ]
     },
     "execution_count": 295,
     "metadata": {},
     "output_type": "execute_result"
    }
   ],
   "source": [
    "P_rad = sympy.Symbol(r'P_{\\rm rad}') # Radiation pressure\n",
    "K = sympy.Symbol('K', positive=True) # Entropy\n",
    "rho_gas = sympy.Symbol(r'\\rho_{\\rm gas}', positive=True) # Gas density\n",
    "eqn_1 = sympy.Eq(P_rad, K*rho_gas**sympy.Rational(4,3))\n",
    "eqn_1"
   ]
  },
  {
   "cell_type": "markdown",
   "metadata": {
    "deletable": true,
    "editable": true
   },
   "source": [
    "Equation 2"
   ]
  },
  {
   "cell_type": "code",
   "execution_count": 296,
   "metadata": {
    "collapsed": false,
    "deletable": true,
    "editable": true
   },
   "outputs": [
    {
     "data": {
      "image/png": "[encoded data removed]",
      "text/latex": [
       "$$\\frac{G M_{bh}}{r^{2}} = - \\frac{\\frac{\\partial}{\\partial r}\\left(K \\rho_{\\rm gas}^{\\frac{4}{3}}\\right)}{\\rho_{\\rm gas}}$$"
      ],
      "text/plain": [
       "            ∂ ⎛                4/3⎞ \n",
       "           -──⎝K⋅\\rho_{\\rm gas}   ⎠ \n",
       "G⋅M_{bh}    ∂r                      \n",
       "──────── = ─────────────────────────\n",
       "    2            \\rho_{\\rm gas}     \n",
       "   r                                "
      ]
     },
     "execution_count": 296,
     "metadata": {},
     "output_type": "execute_result"
    }
   ],
   "source": [
    "r = sympy.Symbol('r', positive=True) # Distance from the black hole\n",
    "G = sympy.Symbol('G', positive=True) # Gravitation constant\n",
    "M_bh = sympy.Symbol('M_{bh}', positive=True) # Black hole mass\n",
    "_ = sympy.Eq(G*M_bh/r**2,-sympy.Derivative(P_rad,r)/rho_gas)\n",
    "_ = _.subs(eqn_1.lhs, eqn_1.rhs)\n",
    "eqn_2 = _\n",
    "eqn_2"
   ]
  },
  {
   "cell_type": "markdown",
   "metadata": {
    "deletable": true,
    "editable": true
   },
   "source": [
    "Equation 3"
   ]
  },
  {
   "cell_type": "code",
   "execution_count": 297,
   "metadata": {
    "collapsed": false,
    "deletable": true,
    "editable": true
   },
   "outputs": [
    {
     "data": {
      "image/png": "[encoded data removed]",
      "text/latex": [
       "$$\\rho_{\\rm gas}{\\left (r \\right )} = \\frac{G^{3} M_{bh}^{3}}{64 K^{3} r^{3}}$$"
      ],
      "text/plain": [
       "                     3       3\n",
       "                    G ⋅M_{bh} \n",
       "\\rho_{\\rm gas}(r) = ──────────\n",
       "                         3  3 \n",
       "                     64⋅K ⋅r  "
      ]
     },
     "execution_count": 297,
     "metadata": {},
     "output_type": "execute_result"
    }
   ],
   "source": [
    "_ = eqn_2\n",
    "_ = _.subs(rho_gas, rho_gas(r))\n",
    "_ = _.doit()\n",
    "_ = sympy.dsolve(_,rho_gas(r))\n",
    "_ = _.subs(sympy.solve(sympy.limit(_.rhs,r,sympy.oo))[0])\n",
    "eqn_3 = _\n",
    "eqn_3"
   ]
  },
  {
   "cell_type": "markdown",
   "metadata": {
    "deletable": true,
    "editable": true
   },
   "source": [
    "Equation 4"
   ]
  },
  {
   "cell_type": "code",
   "execution_count": 298,
   "metadata": {
    "collapsed": false,
    "deletable": true,
    "editable": true
   },
   "outputs": [
    {
     "data": {
      "image/png": "[encoded data removed]",
      "text/latex": [
       "$$M_{*} = \\log{\\left (\\left(\\frac{R_{out}}{R_{in}}\\right)^{\\frac{\\pi G^{3} M_{bh}^{3}}{16 K^{3}}} \\right )}$$"
      ],
      "text/plain": [
       "         ⎛            3       3⎞\n",
       "         ⎜         π⋅G ⋅M_{bh} ⎟\n",
       "         ⎜         ────────────⎟\n",
       "         ⎜                3    ⎟\n",
       "         ⎜            16⋅K     ⎟\n",
       "         ⎜⎛R_{out}⎞            ⎟\n",
       "M_* = log⎜⎜───────⎟            ⎟\n",
       "         ⎝⎝ R_{in}⎠            ⎠"
      ]
     },
     "execution_count": 298,
     "metadata": {},
     "output_type": "execute_result"
    }
   ],
   "source": [
    "R_in = sympy.Symbol('R_{in}',positive=True) # Inner radius\n",
    "R_out = sympy.Symbol('R_{out}', positive=True) # Outer radius\n",
    "M_star = sympy.Symbol('M_*', positive=True) # Envelope mass\n",
    "_ = 4*sympy.pi*rho_gas*r**2\n",
    "_ = _.subs(rho_gas,eqn_3.rhs)\n",
    "_ = sympy.integrate(_,(r,R_in,R_out))\n",
    "_ = _.simplify()\n",
    "eqn_4 = sympy.Eq(M_star, _)\n",
    "eqn_4"
   ]
  },
  {
   "cell_type": "markdown",
   "metadata": {
    "deletable": true,
    "editable": true
   },
   "source": [
    "Equation 5"
   ]
  },
  {
   "cell_type": "code",
   "execution_count": 299,
   "metadata": {
    "collapsed": false,
    "deletable": true,
    "editable": true
   },
   "outputs": [
    {
     "data": {
      "image/png": "[encoded data removed]",
      "text/latex": [
       "$$\\rho_{\\rm gas}{\\left (r \\right )} = - \\frac{M_{*}}{4 \\pi r^{3} \\log{\\left (\\frac{R_{in}}{R_{out}} \\right )}}$$"
      ],
      "text/plain": [
       "                           -M_*        \n",
       "\\rho_{\\rm gas}(r) = ───────────────────\n",
       "                         3    ⎛ R_{in}⎞\n",
       "                    4⋅π⋅r ⋅log⎜───────⎟\n",
       "                              ⎝R_{out}⎠"
      ]
     },
     "execution_count": 299,
     "metadata": {},
     "output_type": "execute_result"
    }
   ],
   "source": [
    "_ = eqn_3\n",
    "_ = _.subs(M_bh,sympy.solve(eqn_4,M_bh)[0]).simplify()\n",
    "eqn_5 = _\n",
    "eqn_5"
   ]
  },
  {
   "cell_type": "markdown",
   "metadata": {
    "deletable": true,
    "editable": true
   },
   "source": [
    "Equation 6"
   ]
  },
  {
   "cell_type": "code",
   "execution_count": 300,
   "metadata": {
    "collapsed": false,
    "deletable": true,
    "editable": true
   },
   "outputs": [
    {
     "data": {
      "image/png": "[encoded data removed]",
      "text/latex": [
       "$$R_{*} = \\frac{\\sqrt[3]{M_{bh}} R_{*}}{\\sqrt[3]{M_{*}}}$$"
      ],
      "text/plain": [
       "      3 ________    \n",
       "      ╲╱ M_{bh} ⋅R_*\n",
       "R_* = ──────────────\n",
       "         3 _____    \n",
       "         ╲╱ M_*     "
      ]
     },
     "execution_count": 300,
     "metadata": {},
     "output_type": "execute_result"
    }
   ],
   "source": [
    "R_star = sympy.Symbol('R_*') # Initial radius of the star\n",
    "eqn_6 = sympy.Eq(R_star, R_star*(M_bh/M_star)**sympy.Rational(1,3))\n",
    "eqn_6"
   ]
  },
  {
   "cell_type": "markdown",
   "metadata": {
    "deletable": true,
    "editable": true
   },
   "source": [
    "Equation 8"
   ]
  },
  {
   "cell_type": "code",
   "execution_count": 301,
   "metadata": {
    "collapsed": false,
    "deletable": true,
    "editable": true
   },
   "outputs": [
    {
     "data": {
      "image/png": "[encoded data removed]",
      "text/latex": [
       "$$R_{out} = \\frac{\\sqrt{2} \\sqrt{M_{*}} \\sqrt{\\frac{\\sigma_{T}}{\\log{\\left (\\frac{R_{out}}{R_{in}} \\right )}}}}{4 \\sqrt{\\pi} \\sqrt{m_{p}} \\sqrt{\\mu_{e}}}$$"
      ],
      "text/plain": [
       "                           ______________\n",
       "               _____      ╱     σ_T      \n",
       "          √2⋅╲╱ M_* ⋅    ╱  ──────────── \n",
       "                        ╱      ⎛R_{out}⎞ \n",
       "                       ╱    log⎜───────⎟ \n",
       "                     ╲╱        ⎝ R_{in}⎠ \n",
       "R_{out} = ───────────────────────────────\n",
       "                        ____   ____      \n",
       "                 4⋅√π⋅╲╱ mₚ ⋅╲╱ μₑ       "
      ]
     },
     "execution_count": 301,
     "metadata": {},
     "output_type": "execute_result"
    }
   ],
   "source": [
    "sigma_T = sympy.Symbol('sigma_T') # Thomson cross section\n",
    "mu_e = sympy.Symbol('mu_e', positive=True) # Mean atomic weight per electron\n",
    "m_p = sympy.Symbol('m_p', positive=True) # Proton mass\n",
    "xi = sympy.Symbol('xi', positive=True) # Auxiliary variable\n",
    "_ = sigma_T*rho_gas/(mu_e*m_p)\n",
    "_ = _.subs(rho_gas, eqn_5.rhs)\n",
    "_ = sympy.integrate(_,(r,R_out,sympy.oo))\n",
    "_ = _.subs(R_in,R_out/xi)\n",
    "_ = sympy.solve(_-1,R_out)[1]\n",
    "_ = _.subs(xi,R_out/R_in)\n",
    "eqn_8 = sympy.Eq(R_out,_)\n",
    "eqn_8"
   ]
  },
  {
   "cell_type": "markdown",
   "metadata": {
    "deletable": true,
    "editable": true
   },
   "source": [
    "Equation 9"
   ]
  },
  {
   "cell_type": "code",
   "execution_count": 302,
   "metadata": {
    "collapsed": false,
    "deletable": true,
    "editable": true
   },
   "outputs": [
    {
     "data": {
      "image/png": "[encoded data removed]",
      "text/latex": [
       "$$\\frac{L}{4 \\pi r^{2}} = - \\frac{c m_{p} \\mu_{e}}{\\rho_{\\rm gas} \\sigma_{T}} \\frac{d}{d r} P_{\\rm rad}$$"
      ],
      "text/plain": [
       "                  d               \n",
       "         -c⋅mₚ⋅μₑ⋅──(P_{\\rm rad}) \n",
       "  L               dr              \n",
       "────── = ─────────────────────────\n",
       "     2       \\rho_{\\rm gas}⋅σ_T   \n",
       "4⋅π⋅r                             "
      ]
     },
     "execution_count": 302,
     "metadata": {},
     "output_type": "execute_result"
    }
   ],
   "source": [
    "L = sympy.Symbol('L') # Luminosity\n",
    "c = sympy.Symbol('c') # Speed of light\n",
    "eqn_9 = sympy.Eq(L/(4*sympy.pi*r**2), -mu_e*m_p*c*sympy.Derivative(P_rad,r)/sigma_T/rho_gas)\n",
    "eqn_9"
   ]
  },
  {
   "cell_type": "markdown",
   "metadata": {
    "deletable": true,
    "editable": true
   },
   "source": [
    "Equation 10"
   ]
  },
  {
   "cell_type": "code",
   "execution_count": 303,
   "metadata": {
    "collapsed": false,
    "deletable": true,
    "editable": true
   },
   "outputs": [
    {
     "data": {
      "image/png": "[encoded data removed]",
      "text/latex": [
       "$$L_{e} = \\frac{4 \\pi}{\\sigma_{T}} G M_{bh} c m_{p} \\mu_{e}$$"
      ],
      "text/plain": [
       "     4⋅π⋅G⋅M_{bh}⋅c⋅mₚ⋅μₑ\n",
       "Lₑ = ────────────────────\n",
       "             σ_T         "
      ]
     },
     "execution_count": 303,
     "metadata": {},
     "output_type": "execute_result"
    }
   ],
   "source": [
    "L_e = sympy.Symbol('L_e') # Eddington luminosity\n",
    "_ = eqn_9\n",
    "_ = _.subs(sympy.Derivative(P_rad,r),-rho_gas*G*M_bh/r**2)\n",
    "eqn_10 = sympy.Eq(L_e,sympy.solve(_,L)[0])\n",
    "eqn_10"
   ]
  },
  {
   "cell_type": "markdown",
   "metadata": {},
   "source": [
    "Equation 11"
   ]
  },
  {
   "cell_type": "code",
   "execution_count": 304,
   "metadata": {
    "collapsed": false
   },
   "outputs": [
    {
     "data": {
      "image/png": "[encoded data removed]",
      "text/latex": [
       "$$\\beta = \\frac{2 \\sqrt[4]{M_{*}} k_{B}}{\\sqrt[4]{\\pi} G^{\\frac{3}{4}} M_{bh}^{\\frac{3}{4}} \\sqrt[4]{a} m_{p} \\mu_{p} \\sqrt[4]{\\log{\\left (\\frac{R_{out}}{R_{in}} \\right )}}}$$"
      ],
      "text/plain": [
       "                         4 _____                       \n",
       "                       2⋅╲╱ M_* ⋅k_B                   \n",
       "β = ───────────────────────────────────────────────────\n",
       "                                         ______________\n",
       "    4 ___  3/4       3/4 4 ___          ╱    ⎛R_{out}⎞ \n",
       "    ╲╱ π ⋅G   ⋅M_{bh}   ⋅╲╱ a ⋅mₚ⋅μₚ⋅4 ╱  log⎜───────⎟ \n",
       "                                     ╲╱      ⎝ R_{in}⎠ "
      ]
     },
     "execution_count": 304,
     "metadata": {},
     "output_type": "execute_result"
    }
   ],
   "source": [
    "beta = sympy.Symbol('beta') # Ratio between gas and total pressure\n",
    "a = sympy.Symbol('a', positive=True) # Radiation constant\n",
    "T = sympy.Symbol('T') # Temperature\n",
    "P_gas = sympy.Symbol(r'P_{\\rm gas}') # Gas pressure\n",
    "k_B = sympy.Symbol('k_B') # Boltzmann constant\n",
    "mu_p = sympy.Symbol('mu_p') # Particle mass per proton\n",
    "gas_eos = sympy.Eq(P_gas,k_B*T*rho_gas/mu_p/m_p)\n",
    "rad_eos = sympy.Eq(P_rad,a*T**4)\n",
    "_ = P_gas/P_rad\n",
    "_ = _.subs(gas_eos.lhs, gas_eos.rhs)\n",
    "_ = _.subs(T,sympy.solve(rad_eos,T)[1])\n",
    "_ = _.subs(eqn_1.lhs, eqn_1.rhs)\n",
    "_ = _.subs(K, sympy.solve(sympy.Eq(eqn_5.rhs,eqn_3.rhs),K)[0].simplify())\n",
    "eqn_11 = sympy.Eq(beta,_)\n",
    "eqn_11"
   ]
  },
  {
   "cell_type": "markdown",
   "metadata": {},
   "source": [
    "Equation 12"
   ]
  },
  {
   "cell_type": "code",
   "execution_count": 305,
   "metadata": {
    "collapsed": false
   },
   "outputs": [
    {
     "data": {
      "image/png": "[encoded data removed]",
      "text/latex": [
       "$$L_{e} = 4 \\pi R_{out}^{2} T_{eff}^{4} \\sigma$$"
      ],
      "text/plain": [
       "                2        4  \n",
       "Lₑ = 4⋅π⋅R_{out} ⋅T_{eff} ⋅σ"
      ]
     },
     "execution_count": 305,
     "metadata": {},
     "output_type": "execute_result"
    }
   ],
   "source": [
    "sigma = sympy.Symbol('sigma',positive=True) # Stefan Boltzmann constant\n",
    "T_eff = sympy.Symbol(r'T_{eff}') # Effective temperature\n",
    "eqn_12 = sympy.Eq(L_e,4*sympy.pi*R_out**2*sigma*T_eff**4)\n",
    "eqn_12"
   ]
  },
  {
   "cell_type": "markdown",
   "metadata": {},
   "source": [
    "Equation 13"
   ]
  },
  {
   "cell_type": "code",
   "execution_count": 306,
   "metadata": {
    "collapsed": false
   },
   "outputs": [
    {
     "data": {
      "image/png": "[encoded data removed]",
      "text/latex": [
       "$$T_{eff} = \\frac{\\sqrt{2} \\sqrt[4]{L_{e}}}{2 \\sqrt[4]{\\pi} \\sqrt{R_{out}} \\sqrt[4]{\\sigma}}$$"
      ],
      "text/plain": [
       "                     4 ____        \n",
       "                  √2⋅╲╱ Lₑ         \n",
       "T_{eff} = ─────────────────────────\n",
       "            4 ___   _________ 4 ___\n",
       "          2⋅╲╱ π ⋅╲╱ R_{out} ⋅╲╱ σ "
      ]
     },
     "execution_count": 306,
     "metadata": {},
     "output_type": "execute_result"
    }
   ],
   "source": [
    "eqn_13 = sympy.Eq(T_eff,sympy.solve(eqn_12,T_eff)[1])\n",
    "eqn_13"
   ]
  },
  {
   "cell_type": "markdown",
   "metadata": {},
   "source": [
    "Equation 14"
   ]
  },
  {
   "cell_type": "code",
   "execution_count": 307,
   "metadata": {
    "collapsed": false
   },
   "outputs": [
    {
     "data": {
      "image/png": "[encoded data removed]",
      "text/latex": [
       "$$E_{int} = \\frac{3 G M_{*} M_{bh}}{4 R_{in} \\log{\\left (\\frac{R_{out}}{R_{in}} \\right )}}$$"
      ],
      "text/plain": [
       "              3⋅G⋅M_*⋅M_{bh}   \n",
       "E_{int} = ─────────────────────\n",
       "                      ⎛R_{out}⎞\n",
       "          4⋅R_{in}⋅log⎜───────⎟\n",
       "                      ⎝ R_{in}⎠"
      ]
     },
     "execution_count": 307,
     "metadata": {},
     "output_type": "execute_result"
    }
   ],
   "source": [
    "E_int = sympy.Symbol(r'E_{int}') # Internal energy\n",
    "_ = 3*P_rad*4*sympy.pi*r**2\n",
    "_ = _.subs(eqn_1.lhs, eqn_1.rhs)\n",
    "_ = _.subs(rho_gas,eqn_5.rhs)\n",
    "_ = _.subs(K, sympy.solve(sympy.Eq(eqn_5.rhs,eqn_3.rhs),K)[0].simplify())\n",
    "_ = sympy.integrate(_,(r,R_in,R_out)).simplify()\n",
    "_ = _.subs(R_out,sympy.exp(xi)*R_in).simplify()\n",
    "_ = _.series(sympy.exp(xi),sympy.oo,1)\n",
    "_ = _.subs(xi,sympy.log(R_out/R_in))\n",
    "eqn_14 = sympy.Eq(E_int,_)\n",
    "eqn_14"
   ]
  },
  {
   "cell_type": "markdown",
   "metadata": {},
   "source": [
    "Equation 15"
   ]
  },
  {
   "cell_type": "code",
   "execution_count": 308,
   "metadata": {
    "collapsed": false
   },
   "outputs": [
    {
     "data": {
      "image/png": "[encoded data removed]",
      "text/latex": [
       "$$L_{e} = - \\dot{M}_* c^{2} \\epsilon$$"
      ],
      "text/plain": [
       "                 2  \n",
       "Lₑ = -\\dot{M}_*⋅c ⋅ε"
      ]
     },
     "execution_count": 308,
     "metadata": {},
     "output_type": "execute_result"
    }
   ],
   "source": [
    "epsilon = sympy.Symbol('epsilon') # Accretion radiation efficiency\n",
    "dot_M_star = sympy.Symbol(r'\\dot{M}_*') # Accretion rate\n",
    "eqn_15 = sympy.Eq(L_e,-epsilon*dot_M_star*c**2)\n",
    "eqn_15"
   ]
  },
  {
   "cell_type": "markdown",
   "metadata": {},
   "source": [
    "Equation 16"
   ]
  },
  {
   "cell_type": "code",
   "execution_count": 316,
   "metadata": {
    "collapsed": false
   },
   "outputs": [
    {
     "data": {
      "image/png": "[encoded data removed]",
      "text/latex": [
       "$$\\operatorname{M_{*}}{\\left (t \\right )} = \\frac{4 \\pi G M_{bh} m_{p} t}{c \\epsilon \\sigma_{T}} \\mu_{e} + M_{*}$$"
      ],
      "text/plain": [
       "         4⋅π⋅G⋅M_{bh}⋅mₚ⋅μₑ⋅t      \n",
       "M_*(t) = ──────────────────── + M_*\n",
       "               c⋅ε⋅σ_T             "
      ]
     },
     "execution_count": 316,
     "metadata": {},
     "output_type": "execute_result"
    }
   ],
   "source": [
    "t = sympy.Symbol('t') # Time\n",
    "_ = sympy.Eq(M_star(t).diff(t),-dot_M_star)\n",
    "_ = _.subs(dot_M_star,sympy.solve(eqn_15,dot_M_star)[0])\n",
    "_ = _.subs(eqn_10.lhs, eqn_10.rhs)\n",
    "_ = sympy.dsolve(_,M_star(t))\n",
    "_ = _.subs(sympy.solve(_.rhs.subs(t,0)-M_star,sympy.Symbol('C1'),dict=True)[0])\n",
    "eqn_16 = _\n",
    "eqn_16"
   ]
  },
  {
   "cell_type": "markdown",
   "metadata": {},
   "source": [
    "Equation 17"
   ]
  },
  {
   "cell_type": "code",
   "execution_count": 322,
   "metadata": {
    "collapsed": false
   },
   "outputs": [
    {
     "data": {
      "image/png": "[encoded data removed]",
      "text/latex": [
       "$$t_{E} = \\frac{M_{*} c \\epsilon \\sigma_{T}}{4 \\pi G M_{bh} m_{p} \\mu_{e}}$$"
      ],
      "text/plain": [
       "         M_*⋅c⋅ε⋅σ_T    \n",
       "t_E = ──────────────────\n",
       "      4⋅π⋅G⋅M_{bh}⋅mₚ⋅μₑ"
      ]
     },
     "execution_count": 322,
     "metadata": {},
     "output_type": "execute_result"
    }
   ],
   "source": [
    "t_E = sympy.Symbol('t_E') # Eddington time\n",
    "_ = 1/(eqn_16.rhs.diff(t)/M_star)\n",
    "eqn_17 = sympy.Eq(t_E,_)\n",
    "eqn_17"
   ]
  },
  {
   "cell_type": "markdown",
   "metadata": {},
   "source": [
    "Equation 18"
   ]
  },
  {
   "cell_type": "code",
   "execution_count": 330,
   "metadata": {
    "collapsed": false
   },
   "outputs": [
    {
     "data": {
      "image/png": "[encoded data removed]",
      "text/latex": [
       "$$t_{dyn} = \\frac{2^{\\frac{3}{4}} M_{*}^{\\frac{3}{4}} \\sigma_{T}^{\\frac{3}{4}}}{8 \\pi^{\\frac{3}{4}} \\sqrt{G} \\sqrt{M_{bh}} m_{p}^{\\frac{3}{4}} \\mu_{e}^{\\frac{3}{4}} \\log^{\\frac{3}{4}}{\\left (\\frac{R_{out}}{R_{in}} \\right )}}$$"
      ],
      "text/plain": [
       "                          3/4    3/4    3/4               \n",
       "                         2   ⋅M_*   ⋅σ_T                  \n",
       "t_{dyn} = ────────────────────────────────────────────────\n",
       "             3/4      ________   3/4   3/4    3/4⎛R_{out}⎞\n",
       "          8⋅π   ⋅√G⋅╲╱ M_{bh} ⋅mₚ   ⋅μₑ   ⋅log   ⎜───────⎟\n",
       "                                                 ⎝ R_{in}⎠"
      ]
     },
     "execution_count": 330,
     "metadata": {},
     "output_type": "execute_result"
    }
   ],
   "source": [
    "t_dyn = sympy.Symbol(r't_{dyn}') # Dynamical time\n",
    "_ = 1/sympy.sqrt(G*M_bh/R_out**3)\n",
    "_ = _.subs(eqn_8.lhs,eqn_8.rhs)\n",
    "_ = sympy.expand_power_base(_,force=True)\n",
    "_ = _.subs(R_out,sympy.exp(xi)*R_in)\n",
    "_ = _.subs(xi,sympy.log(R_out/R_in))\n",
    "eqn_18 = sympy.Eq(t_dyn,_)\n",
    "eqn_18"
   ]
  },
  {
   "cell_type": "markdown",
   "metadata": {},
   "source": [
    "Equation 19"
   ]
  },
  {
   "cell_type": "code",
   "execution_count": 332,
   "metadata": {
    "collapsed": false
   },
   "outputs": [
    {
     "data": {
      "image/png": "[encoded data removed]",
      "text/latex": [
       "$$\\epsilon > \\frac{2^{\\frac{3}{4}} \\sqrt[4]{\\pi} \\sqrt{G} \\sqrt{M_{bh}} \\sqrt[4]{m_{p}} \\sqrt[4]{\\mu_{e}}}{2 \\sqrt[4]{M_{*}} c \\sqrt[4]{\\sigma_{T}} \\log^{\\frac{3}{4}}{\\left (\\frac{R_{out}}{R_{in}} \\right )}}$$"
      ],
      "text/plain": [
       "     3/4 4 ___      ________ 4 ____ 4 ____\n",
       "    2   ⋅╲╱ π ⋅√G⋅╲╱ M_{bh} ⋅╲╱ mₚ ⋅╲╱ μₑ \n",
       "ε > ──────────────────────────────────────\n",
       "       4 _____   4 _____    3/4⎛R_{out}⎞  \n",
       "     2⋅╲╱ M_* ⋅c⋅╲╱ σ_T ⋅log   ⎜───────⎟  \n",
       "                               ⎝ R_{in}⎠  "
      ]
     },
     "execution_count": 332,
     "metadata": {},
     "output_type": "execute_result"
    }
   ],
   "source": [
    "_ = sympy.Eq(t_E,t_dyn)\n",
    "_ = _.subs(eqn_17.lhs, eqn_17.rhs)\n",
    "_ = _.subs(eqn_18.lhs, eqn_18.rhs)\n",
    "_ = sympy.solve(_,epsilon)[0]\n",
    "eqn_19 = epsilon>_\n",
    "eqn_19"
   ]
  },
  {
   "cell_type": "markdown",
   "metadata": {},
   "source": [
    "Equation 20"
   ]
  },
  {
   "cell_type": "code",
   "execution_count": 337,
   "metadata": {
    "collapsed": false
   },
   "outputs": [
    {
     "data": {
      "image/png": "[encoded data removed]",
      "text/latex": [
       "$$t_{vis} = \\frac{R_{in}^{\\frac{3}{2}}}{\\sqrt{G} \\sqrt{M_{bh}} \\alpha}$$"
      ],
      "text/plain": [
       "                   3/2   \n",
       "             R_{in}      \n",
       "t_{vis} = ───────────────\n",
       "               ________  \n",
       "          √G⋅╲╱ M_{bh} ⋅α"
      ]
     },
     "execution_count": 337,
     "metadata": {},
     "output_type": "execute_result"
    }
   ],
   "source": [
    "t_vis = sympy.Symbol(r't_{vis}') # Viscous timescale\n",
    "eta = sympy.Symbol('eta') # Viscosity\n",
    "alpha = sympy.Symbol('alpha') # Shakura Sunyaev alpha parameter\n",
    "_ = sympy.Eq(t_vis,rho_gas*R_in**2/eta)\n",
    "_ = _.subs(eta, alpha*P_rad*sympy.sqrt(R_in**3/G/M_bh))\n",
    "_ = _.subs(P_rad,rho_gas*G*M_bh/R_in)\n",
    "eqn_20 = _\n",
    "eqn_20"
   ]
  },
  {
   "cell_type": "code",
   "execution_count": null,
   "metadata": {
    "collapsed": true
   },
   "outputs": [],
   "source": []
  }
 ],
 "metadata": {
  "kernelspec": {
   "display_name": "Python 3",
   "language": "python",
   "name": "python3"
  },
  "language_info": {
   "codemirror_mode": {
    "name": "ipython",
    "version": 3
   },
   "file_extension": ".py",
   "mimetype": "text/x-python",
   "name": "python",
   "nbconvert_exporter": "python",
   "pygments_lexer": "ipython3",
   "version": "3.6.1"
  }
 },
 "nbformat": 4,
 "nbformat_minor": 2
}
